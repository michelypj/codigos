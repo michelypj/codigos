{
 "cells": [
  {
   "cell_type": "code",
   "execution_count": 1,
   "metadata": {},
   "outputs": [],
   "source": [
    "import sys\n",
    "import bz2\n",
    "import numpy as np\n",
    "import pylab as plb\n",
    "import matplotlib.pyplot as plt"
   ]
  },
  {
   "cell_type": "markdown",
   "metadata": {},
   "source": [
    "Lo primero que debes hacer es crear un archivo que contenga el listado de los archivos .rte que quieres leer. Para eso, debes copiar el archivo _fileList.dat_ en el directorio donde están los archivos .rte. Luego ejecutar la siguiente linea (colocando la respectiva ruta donde se encuentran los archivos .rte):"
   ]
  },
  {
   "cell_type": "code",
   "execution_count": 8,
   "metadata": {},
   "outputs": [
    {
     "name": "stdout",
     "output_type": "stream",
     "text": [
      "/bin/sh: 1: ../archivos/makingFilelist.sh: not found\r\n"
     ]
    }
   ],
   "source": [
    "!../archivos/makingFilelist.sh # This line makes the file with the list"
   ]
  },
  {
   "cell_type": "markdown",
   "metadata": {},
   "source": [
    "La linea anterior te crea el archivo _fileList.dat_ que contiene el nombre de todos los archivos .rte que quieres analizar en su respectivo orden cronológico."
   ]
  },
  {
   "cell_type": "code",
   "execution_count": 3,
   "metadata": {},
   "outputs": [
    {
     "name": "stdout",
     "output_type": "stream",
     "text": [
      "[\"b'l1_v5_nahuelito_2012_03_24_17h00.cal'\"\n",
      " \"b'l1_v5_nahuelito_2012_03_24_17h00.mon'\"\n",
      " \"b'l1_v5_nahuelito_2012_03_24_17h00.rte'\"\n",
      " \"b'l1_v5_nahuelito_2012_03_24_17h00.sol'\"\n",
      " \"b'l1_v5_nahuelito_2012_03_27_08h00.cal'\"\n",
      " \"b'l1_v5_nahuelito_2012_03_27_08h00.mon'\"\n",
      " \"b'l1_v5_nahuelito_2012_03_27_08h00.rte'\"\n",
      " \"b'l1_v5_nahuelito_2012_03_27_08h00.sol'\"]\n"
     ]
    }
   ],
   "source": [
    "filist = np.loadtxt('fileList.dat', str) \n",
    "\n",
    "print(filist)"
   ]
  },
  {
   "cell_type": "markdown",
   "metadata": {},
   "source": [
    "Como ves, aparece una b y comillas en los nombres. Para quitarlas y leer cada archivo y calcular la media, entonces:"
   ]
  },
  {
   "cell_type": "code",
   "execution_count": 7,
   "metadata": {},
   "outputs": [
    {
     "name": "stdout",
     "output_type": "stream",
     "text": [
      "l1_v5_nahuelito_2012_03_24_17h00.cal\n",
      "l1_v5_nahuelito_2012_03_24_17h00.mon\n",
      "l1_v5_nahuelito_2012_03_24_17h00.rte\n",
      "l1_v5_nahuelito_2012_03_24_17h00.sol\n",
      "l1_v5_nahuelito_2012_03_27_08h00.cal\n",
      "l1_v5_nahuelito_2012_03_27_08h00.mon\n",
      "l1_v5_nahuelito_2012_03_27_08h00.rte\n",
      "l1_v5_nahuelito_2012_03_27_08h00.sol\n"
     ]
    }
   ],
   "source": [
    "for i in filist:\n",
    "    fn = i\n",
    "    fn = fn.replace('b','')\n",
    "    fn = fn.replace('\\'','')    \n",
    "    \n",
    "    outfile = loadtxt(\"l1_v5_nahuelito_2012_03_27_21h00.rte\", float)\n",
    "    print(sum(outfile[:,6])/len(outfile[:,6]))"
   ]
  }
 ],
 "metadata": {
  "kernelspec": {
   "display_name": "Python 3",
   "language": "python",
   "name": "python3"
  },
  "language_info": {
   "codemirror_mode": {
    "name": "ipython",
    "version": 3
   },
   "file_extension": ".py",
   "mimetype": "text/x-python",
   "name": "python",
   "nbconvert_exporter": "python",
   "pygments_lexer": "ipython3",
   "version": "3.5.2"
  }
 },
 "nbformat": 4,
 "nbformat_minor": 2
}
